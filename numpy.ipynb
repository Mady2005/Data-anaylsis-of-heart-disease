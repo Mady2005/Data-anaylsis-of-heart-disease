{
 "cells": [
  {
   "cell_type": "markdown",
   "id": "259d1001-e49a-4f3f-858b-5c8ea6ab105b",
   "metadata": {},
   "source": [
    "NUMpy\n"
   ]
  },
  {
   "cell_type": "code",
   "execution_count": 3,
   "id": "c9ff5b1b-ba2b-417d-a888-df7ce2a1e45b",
   "metadata": {},
   "outputs": [],
   "source": [
    "import numpy as np\n"
   ]
  },
  {
   "cell_type": "code",
   "execution_count": 5,
   "id": "f05c5826-1eb4-4976-88c7-330c750c8ea2",
   "metadata": {},
   "outputs": [
    {
     "name": "stdout",
     "output_type": "stream",
     "text": [
      "1.26.4\n"
     ]
    }
   ],
   "source": [
    "print(np.__version__)"
   ]
  },
  {
   "cell_type": "code",
   "execution_count": null,
   "id": "ad200d84-30dc-4ac4-ada4-07596c7d9739",
   "metadata": {},
   "outputs": [],
   "source": []
  },
  {
   "cell_type": "code",
   "execution_count": 8,
   "id": "fa5a7b4a-cb95-4f79-988e-27964c01322e",
   "metadata": {},
   "outputs": [
    {
     "name": "stdout",
     "output_type": "stream",
     "text": [
      "[ 1  2 55 66 88]\n",
      "<class 'numpy.ndarray'>\n",
      "1\n",
      "(5,)\n"
     ]
    }
   ],
   "source": [
    "x1=np.array([1,2,55,66,88])\n",
    "print(x1)\n",
    "print(type(x1))\n",
    "print(x1.ndim)\n",
    "print(x1.shape)\n"
   ]
  },
  {
   "cell_type": "code",
   "execution_count": 10,
   "id": "ba079056-eacd-4e0a-ab3d-c29804c47ebb",
   "metadata": {},
   "outputs": [],
   "source": [
    "## 2d/Matrix"
   ]
  },
  {
   "cell_type": "code",
   "execution_count": 12,
   "id": "c5bc0aae-d242-4be3-bee8-dc073049ecea",
   "metadata": {},
   "outputs": [
    {
     "name": "stdout",
     "output_type": "stream",
     "text": [
      "[[ 1  2 55 66 88]\n",
      " [ 2  3  4  5  6]]\n",
      "<class 'numpy.ndarray'>\n",
      "2\n",
      "(2, 5)\n"
     ]
    }
   ],
   "source": [
    "x2=np.array([[1,2,55,66,88],[2,3,4,5,6]])\n",
    "print(x2)\n",
    "print(type(x2))\n",
    "print(x2.ndim)\n",
    "print(x2.shape)\n"
   ]
  },
  {
   "cell_type": "code",
   "execution_count": null,
   "id": "25078037-93d5-4e6b-a89d-9ac26dbd8994",
   "metadata": {},
   "outputs": [],
   "source": []
  },
  {
   "cell_type": "code",
   "execution_count": 15,
   "id": "1bb29347-f6fd-46b8-b4ed-0e0c186cf7b8",
   "metadata": {},
   "outputs": [
    {
     "name": "stdout",
     "output_type": "stream",
     "text": [
      "[[[ 1  2 55 66]\n",
      "  [ 2  3  4  5]]\n",
      "\n",
      " [[ 7  8  9 10]\n",
      "  [ 4  5  6 77]]]\n",
      "<class 'numpy.ndarray'>\n",
      "3\n",
      "(2, 2, 4)\n"
     ]
    }
   ],
   "source": [
    "x3=np.array([[[1,2,55,66],[2,3,4,5]],[[7,8,9,10],[4,5,6,77]]])\n",
    "print(x3)\n",
    "print(type(x3))\n",
    "print(x3.ndim)\n",
    "print(x3.shape)\n"
   ]
  },
  {
   "cell_type": "code",
   "execution_count": 17,
   "id": "c44b89b1-3b66-4b19-8741-13943fcbba66",
   "metadata": {},
   "outputs": [],
   "source": [
    "##3d//vector"
   ]
  },
  {
   "cell_type": "code",
   "execution_count": 19,
   "id": "f04da8ba-ae96-4d37-bb69-cb1e78c191fa",
   "metadata": {},
   "outputs": [
    {
     "name": "stdout",
     "output_type": "stream",
     "text": [
      "[[[ 1  2 55 66]\n",
      "  [ 2  3  4  5]]\n",
      "\n",
      " [[ 7  8  9 10]\n",
      "  [ 4  5  6 77]]\n",
      "\n",
      " [[ 2  3  4  5]\n",
      "  [ 7 10 12 11]]]\n",
      "<class 'numpy.ndarray'>\n",
      "3\n",
      "(3, 2, 4)\n"
     ]
    }
   ],
   "source": [
    "x4=np.array([[[1,2,55,66],[2,3,4,5]],[[7,8,9,10],[4,5,6,77]],[[2,3,4,5],[7,10,12,11]]])\n",
    "print(x4)\n",
    "print(type(x4))\n",
    "print(x4.ndim)\n",
    "print(x4.shape)\n"
   ]
  },
  {
   "cell_type": "code",
   "execution_count": null,
   "id": "32d12c7e-a668-4602-8df0-94af32a4db63",
   "metadata": {},
   "outputs": [],
   "source": []
  },
  {
   "cell_type": "code",
   "execution_count": 22,
   "id": "8e1a1b7a-5f33-4b16-b580-b956a449f57d",
   "metadata": {},
   "outputs": [
    {
     "name": "stdout",
     "output_type": "stream",
     "text": [
      "[ 1  2  3  4  5  6  7  8  9 10 11 12]\n",
      "<class 'numpy.ndarray'>\n",
      "1\n",
      "(12,)\n",
      "______________________________\n",
      "[[ 1  2]\n",
      " [ 3  4]\n",
      " [ 5  6]\n",
      " [ 7  8]\n",
      " [ 9 10]\n",
      " [11 12]]\n",
      "2\n",
      "(6, 2)\n",
      "______________________________\n"
     ]
    }
   ],
   "source": [
    "x5=np.array([1,2,3,4,5,6,7,8,9,10,11,12])\n",
    "print(x5)\n",
    "print(type(x5))\n",
    "print(x5.ndim)\n",
    "print(x5.shape)\n",
    "print(\"_\"*30)\n",
    "x6=x5.reshape(6,2)\n",
    "print(x6)\n",
    "print(x6.ndim)\n",
    "print(x6.shape)\n",
    "print(\"_\"*30)\n"
   ]
  },
  {
   "cell_type": "code",
   "execution_count": 24,
   "id": "e6d0ad05-695d-4482-8afd-ce7b9246ecc7",
   "metadata": {},
   "outputs": [],
   "source": [
    "##1dto3dconversion"
   ]
  },
  {
   "cell_type": "code",
   "execution_count": 26,
   "id": "e90def30-f712-4c01-8807-a02e577a7367",
   "metadata": {},
   "outputs": [
    {
     "name": "stdout",
     "output_type": "stream",
     "text": [
      "[ 1  2  3  4  5  6  7  8  9 10 11 12]\n",
      "<class 'numpy.ndarray'>\n",
      "1\n",
      "(12,)\n",
      "______________________________\n",
      "[[[ 1  2]\n",
      "  [ 3  4]]\n",
      "\n",
      " [[ 5  6]\n",
      "  [ 7  8]]\n",
      "\n",
      " [[ 9 10]\n",
      "  [11 12]]]\n",
      "3\n",
      "(3, 2, 2)\n",
      "______________________________\n"
     ]
    }
   ],
   "source": [
    "x7=np.array([1,2,3,4,5,6,7,8,9,10,11,12])\n",
    "print(x7)\n",
    "print(type(x7))\n",
    "print(x7.ndim)\n",
    "print(x7.shape)\n",
    "print(\"_\"*30)\n",
    "x8=x7.reshape(3,2,2)\n",
    "print(x8)\n",
    "print(x8.ndim)\n",
    "print(x8.shape)\n",
    "print(\"_\"*30)\n"
   ]
  },
  {
   "cell_type": "code",
   "execution_count": 28,
   "id": "eeca0437-1a0e-46bb-a767-9792ac0d33b8",
   "metadata": {},
   "outputs": [],
   "source": [
    "##two variable soln"
   ]
  },
  {
   "cell_type": "code",
   "execution_count": 30,
   "id": "2657d197-4ba9-48f1-9e36-67764466613f",
   "metadata": {},
   "outputs": [
    {
     "name": "stdout",
     "output_type": "stream",
     "text": [
      "[-0.66153846  1.76923077]\n"
     ]
    }
   ],
   "source": [
    "a=np.array([[20,12],[-5,10]])\n",
    "b=np.array([8,21])\n",
    "sol=np.linalg.solve(a,b)\n",
    "print(sol)\n",
    "\n"
   ]
  },
  {
   "cell_type": "code",
   "execution_count": 32,
   "id": "b197d2d5-d7d9-4dc7-9d85-a48690545332",
   "metadata": {},
   "outputs": [],
   "source": [
    "##3variable soln"
   ]
  },
  {
   "cell_type": "code",
   "execution_count": 34,
   "id": "5e80bd08-8105-42a5-afc5-0a9b2f1398c5",
   "metadata": {},
   "outputs": [
    {
     "name": "stdout",
     "output_type": "stream",
     "text": [
      "[ 1.47576253 -0.88562092 -2.68205338]\n"
     ]
    }
   ],
   "source": [
    "a1=np.array([[10,-9,4],[52,19,16],[5,7,-10]])\n",
    "b1=np.array([12,17,28])\n",
    "sol=np.linalg.solve(a1,b1)\n",
    "print(sol)\n",
    "\n"
   ]
  },
  {
   "cell_type": "code",
   "execution_count": 36,
   "id": "400b1bd9-52e7-40da-a62b-3ca069c7ddc6",
   "metadata": {},
   "outputs": [
    {
     "name": "stdout",
     "output_type": "stream",
     "text": [
      "[[[102  28  19]\n",
      "  [ 99  29  19]\n",
      "  [ 95  28  19]\n",
      "  ...\n",
      "  [ 21  21  29]\n",
      "  [ 21  27  39]\n",
      "  [ 30  38  51]]\n",
      "\n",
      " [[112  32  25]\n",
      "  [105  30  24]\n",
      "  [ 98  28  20]\n",
      "  ...\n",
      "  [ 20  21  26]\n",
      "  [ 19  23  32]\n",
      "  [ 25  31  43]]\n",
      "\n",
      " [[116  33  29]\n",
      "  [109  30  25]\n",
      "  [ 99  26  19]\n",
      "  ...\n",
      "  [ 21  20  25]\n",
      "  [ 16  19  24]\n",
      "  [ 20  25  31]]\n",
      "\n",
      " ...\n",
      "\n",
      " [[ 63  47  34]\n",
      "  [ 57  41  28]\n",
      "  [ 53  37  24]\n",
      "  ...\n",
      "  [105  47  33]\n",
      "  [106  48  34]\n",
      "  [104  48  33]]\n",
      "\n",
      " [[ 67  51  38]\n",
      "  [ 60  44  31]\n",
      "  [ 55  39  26]\n",
      "  ...\n",
      "  [109  46  31]\n",
      "  [112  50  35]\n",
      "  [106  47  31]]\n",
      "\n",
      " [[ 68  52  37]\n",
      "  [ 61  45  32]\n",
      "  [ 57  41  28]\n",
      "  ...\n",
      "  [111  44  28]\n",
      "  [117  50  34]\n",
      "  [111  45  31]]]\n",
      "<class 'numpy.ndarray'>\n",
      "3\n",
      "(1536, 2048, 3)\n"
     ]
    }
   ],
   "source": [
    "from matplotlib.image import imread\n",
    "hi=imread(\"C://Users//madhu//OneDrive//Pictures//weic2212a.jpg\")\n",
    "print(hi)\n",
    "print(type(hi))\n",
    "print(hi.ndim)\n",
    "print(hi.shape)"
   ]
  },
  {
   "cell_type": "code",
   "execution_count": 38,
   "id": "fed0c780-7e7c-44ce-9f78-bacec2aabd8d",
   "metadata": {},
   "outputs": [],
   "source": [
    "##matrix solving"
   ]
  },
  {
   "cell_type": "code",
   "execution_count": 40,
   "id": "d7b90b82-6b47-4781-b1eb-9c6efede852e",
   "metadata": {},
   "outputs": [
    {
     "name": "stdout",
     "output_type": "stream",
     "text": [
      "[[40 20 20]\n",
      " [ 4  5  6]\n",
      " [30 40 20]]\n",
      "______________________________\n",
      "3\n",
      "------------------------------\n",
      "65\n",
      "______________________________\n",
      "-3399.999999999999\n",
      "______________________________\n",
      "[[ 0.04117647 -0.11764706 -0.00588235]\n",
      " [-0.02941176 -0.05882353  0.04705882]\n",
      " [-0.00294118  0.29411765 -0.03529412]]\n",
      "______________________________\n"
     ]
    }
   ],
   "source": [
    "test=np.array([[40,20,20],[4,5,6],[30,40,20]])\n",
    "print(test)\n",
    "print(\"_\"*30)\n",
    "print(np.linalg.matrix_rank(test))\n",
    "print(\"-\"*30)\n",
    "print(np.trace(test))\n",
    "print(\"_\"*30)\n",
    "print(np.linalg.det(test))\n",
    "print(\"_\"*30)\n",
    "print(np.linalg.inv(test))\n",
    "print(\"_\"*30)\n"
   ]
  },
  {
   "cell_type": "code",
   "execution_count": 42,
   "id": "33b714cd-bd07-4a51-a5bb-3fa23bf6d7b4",
   "metadata": {},
   "outputs": [],
   "source": [
    "##eigen value"
   ]
  },
  {
   "cell_type": "code",
   "execution_count": 44,
   "id": "fc034b11-07e8-4cd4-8a67-5e9a3d0b33c1",
   "metadata": {},
   "outputs": [
    {
     "name": "stdout",
     "output_type": "stream",
     "text": [
      "[[ 1  2  3]\n",
      " [ 5  6  7]\n",
      " [ 9 10 11]]\n",
      "\n",
      "[ 1.92469508e+01 -1.24695077e+00  1.32811035e-15]\n",
      "\n",
      "[[ 0.1937289   0.77433837  0.40824829]\n",
      " [ 0.51451855  0.07288936 -0.81649658]\n",
      " [ 0.83530819 -0.62855964  0.40824829]]\n"
     ]
    }
   ],
   "source": [
    "test1=np.array([[1,2,3],[5,6,7],[9,10,11]])\n",
    "print(test1)\n",
    "print()\n",
    "c,d=np.linalg.eig(test1)\n",
    "print(c)\n",
    "print()\n",
    "print(d)"
   ]
  },
  {
   "cell_type": "code",
   "execution_count": 46,
   "id": "4274c0ee-da06-417b-bfd0-7fcf22a5fded",
   "metadata": {},
   "outputs": [],
   "source": [
    "##mean,median,mode"
   ]
  },
  {
   "cell_type": "code",
   "execution_count": 48,
   "id": "b7a62b5f-d6d6-4b3e-a33a-325c201d2874",
   "metadata": {},
   "outputs": [
    {
     "name": "stdout",
     "output_type": "stream",
     "text": [
      "43.26315789473684\n",
      "44.0\n",
      "ModeResult(mode=22, count=3)\n"
     ]
    }
   ],
   "source": [
    "from scipy import stats\n",
    "speed=np.array([22,44,55,66,77,88,99,33,12,45,44,32,66,76,5,22,22,0,14])\n",
    "m=np.mean(speed)\n",
    "print(m)\n",
    "m1=np.median(speed)\n",
    "print(m1)\n",
    "m2=stats.mode(speed)\n",
    "print(m2)"
   ]
  },
  {
   "cell_type": "code",
   "execution_count": 52,
   "id": "90e0417c-2384-47e3-842a-b73d1ed7999e",
   "metadata": {},
   "outputs": [
    {
     "name": "stdout",
     "output_type": "stream",
     "text": [
      "28.89622355148143\n",
      "834.9917355371902\n"
     ]
    }
   ],
   "source": [
    "speed=np.array([22,44,77,88,99,33,12,55,66,77,99])\n",
    "print(speed.std())\n",
    "print(speed.var())\n"
   ]
  },
  {
   "cell_type": "code",
   "execution_count": null,
   "id": "f2221f6b-8c60-469a-a28e-618f774ea498",
   "metadata": {},
   "outputs": [],
   "source": [
    "##percentile"
   ]
  },
  {
   "cell_type": "code",
   "execution_count": 54,
   "id": "6cfd039a-20a6-4405-8683-237461fec2ee",
   "metadata": {},
   "outputs": [
    {
     "data": {
      "text/plain": [
       "88.0"
      ]
     },
     "execution_count": 54,
     "metadata": {},
     "output_type": "execute_result"
    }
   ],
   "source": [
    "speed=np.array([22,44,77,88,99,33,12,55,66,77,99])\n",
    "np.percentile(speed,80)\n"
   ]
  },
  {
   "cell_type": "code",
   "execution_count": null,
   "id": "b04b694b-26af-4707-b003-b147b03f1c02",
   "metadata": {},
   "outputs": [],
   "source": []
  }
 ],
 "metadata": {
  "kernelspec": {
   "display_name": "Python [conda env:base] *",
   "language": "python",
   "name": "conda-base-py"
  },
  "language_info": {
   "codemirror_mode": {
    "name": "ipython",
    "version": 3
   },
   "file_extension": ".py",
   "mimetype": "text/x-python",
   "name": "python",
   "nbconvert_exporter": "python",
   "pygments_lexer": "ipython3",
   "version": "3.12.7"
  }
 },
 "nbformat": 4,
 "nbformat_minor": 5
}
